{
 "cells": [
  {
   "cell_type": "code",
   "execution_count": 82,
   "metadata": {
    "collapsed": true
   },
   "outputs": [],
   "source": [
    "# Read in dependencies\n",
    "import pandas as pd\n",
    "import sqlalchemy\n",
    "from sqlalchemy import create_engine, MetaData\n",
    "from sqlalchemy.ext.declarative import declarative_base\n",
    "from sqlalchemy import Column, Integer, String, Numeric, Text, Float, Date"
   ]
  },
  {
   "cell_type": "code",
   "execution_count": 83,
   "metadata": {
    "collapsed": true
   },
   "outputs": [],
   "source": [
    "# Create an engine to a SQLite database called 'traffic.sqlite'\n",
    "engine = create_engine(\"sqlite:///traffic.sqlite\")"
   ]
  },
  {
   "cell_type": "code",
   "execution_count": 84,
   "metadata": {
    "collapsed": true
   },
   "outputs": [],
   "source": [
    "# Create a connection to the engine\n",
    "conn = engine.connect()"
   ]
  },
  {
   "cell_type": "markdown",
   "metadata": {},
   "source": [
    "## Creating Table"
   ]
  },
  {
   "cell_type": "code",
   "execution_count": 85,
   "metadata": {
    "collapsed": true
   },
   "outputs": [],
   "source": [
    "# Use declarative_base to model the measurements \n",
    "Base = declarative_base()\n",
    "\n",
    "class Incidents(Base):\n",
    "    __tablename__ = 'incidents'\n",
    "    \n",
    "    id = Column(Integer, primary_key=True)\n",
    "    address = Column(Text)\n",
    "    issue_reported = Column(Text)\n",
    "    latitude = Column(Numeric)\n",
    "    longitude = Column(Numeric)\n",
    "    published_date = Column(Text)"
   ]
  },
  {
   "cell_type": "code",
   "execution_count": 86,
   "metadata": {
    "collapsed": true
   },
   "outputs": [],
   "source": [
    "# Create the Reviews table in the database\n",
    "Base.metadata.create_all(engine)"
   ]
  },
  {
   "cell_type": "code",
   "execution_count": 87,
   "metadata": {},
   "outputs": [
    {
     "data": {
      "text/html": [
       "<div>\n",
       "<style>\n",
       "    .dataframe thead tr:only-child th {\n",
       "        text-align: right;\n",
       "    }\n",
       "\n",
       "    .dataframe thead th {\n",
       "        text-align: left;\n",
       "    }\n",
       "\n",
       "    .dataframe tbody tr th {\n",
       "        vertical-align: top;\n",
       "    }\n",
       "</style>\n",
       "<table border=\"1\" class=\"dataframe\">\n",
       "  <thead>\n",
       "    <tr style=\"text-align: right;\">\n",
       "      <th></th>\n",
       "      <th>address</th>\n",
       "      <th>issue_reported</th>\n",
       "      <th>location_latitude</th>\n",
       "      <th>location_longitude</th>\n",
       "      <th>published_date</th>\n",
       "    </tr>\n",
       "  </thead>\n",
       "  <tbody>\n",
       "    <tr>\n",
       "      <th>0</th>\n",
       "      <td>15436 Fm 1825 Rd</td>\n",
       "      <td>Crash Urgent</td>\n",
       "      <td>30.447823</td>\n",
       "      <td>-97.662267</td>\n",
       "      <td>2018-02-05</td>\n",
       "    </tr>\n",
       "    <tr>\n",
       "      <th>1</th>\n",
       "      <td>N Mopac Expy Svrd Sb &amp; W Anderson Ln</td>\n",
       "      <td>Traffic Hazard</td>\n",
       "      <td>30.361209</td>\n",
       "      <td>-97.745268</td>\n",
       "      <td>2017-12-01</td>\n",
       "    </tr>\n",
       "    <tr>\n",
       "      <th>2</th>\n",
       "      <td>W William Cannon Dr &amp; Brodie Ln</td>\n",
       "      <td>Crash Service</td>\n",
       "      <td>30.213794</td>\n",
       "      <td>-97.830349</td>\n",
       "      <td>2018-01-23</td>\n",
       "    </tr>\n",
       "    <tr>\n",
       "      <th>3</th>\n",
       "      <td>1800 E Stassney Ln</td>\n",
       "      <td>Traffic Hazard</td>\n",
       "      <td>30.196998</td>\n",
       "      <td>-97.760701</td>\n",
       "      <td>2018-01-24</td>\n",
       "    </tr>\n",
       "    <tr>\n",
       "      <th>4</th>\n",
       "      <td>2453 E SH 71 SVRD WB</td>\n",
       "      <td>Crash Service</td>\n",
       "      <td>30.213473</td>\n",
       "      <td>-97.659149</td>\n",
       "      <td>2017-12-15</td>\n",
       "    </tr>\n",
       "  </tbody>\n",
       "</table>\n",
       "</div>"
      ],
      "text/plain": [
       "                                address  issue_reported  location_latitude  \\\n",
       "0                      15436 Fm 1825 Rd    Crash Urgent          30.447823   \n",
       "1  N Mopac Expy Svrd Sb & W Anderson Ln  Traffic Hazard          30.361209   \n",
       "2       W William Cannon Dr & Brodie Ln   Crash Service          30.213794   \n",
       "3                    1800 E Stassney Ln  Traffic Hazard          30.196998   \n",
       "4                  2453 E SH 71 SVRD WB   Crash Service          30.213473   \n",
       "\n",
       "   location_longitude published_date  \n",
       "0          -97.662267     2018-02-05  \n",
       "1          -97.745268     2017-12-01  \n",
       "2          -97.830349     2018-01-23  \n",
       "3          -97.760701     2018-01-24  \n",
       "4          -97.659149     2017-12-15  "
      ]
     },
     "execution_count": 87,
     "metadata": {},
     "output_type": "execute_result"
    }
   ],
   "source": [
    "# Load the cleaned csv file\n",
    "df = pd.read_csv(\"cleanData.csv\", index_col=0, encoding='utf-8')\n",
    "df.head()"
   ]
  },
  {
   "cell_type": "code",
   "execution_count": 88,
   "metadata": {
    "collapsed": true
   },
   "outputs": [],
   "source": [
    "# Change wine_df to a dictionary\n",
    "# orient='records' makes the dictionary list-like [{column -> value}]\n",
    "data_incidents = df.to_dict(orient='records')"
   ]
  },
  {
   "cell_type": "code",
   "execution_count": 89,
   "metadata": {},
   "outputs": [
    {
     "data": {
      "text/plain": [
       "{'address': '15436 Fm 1825 Rd',\n",
       " 'issue_reported': 'Crash Urgent',\n",
       " 'location_latitude': 30.447823,\n",
       " 'location_longitude': -97.662267,\n",
       " 'published_date': '2018-02-05'}"
      ]
     },
     "execution_count": 89,
     "metadata": {},
     "output_type": "execute_result"
    }
   ],
   "source": [
    "data_incidents[0]"
   ]
  },
  {
   "cell_type": "code",
   "execution_count": 90,
   "metadata": {
    "collapsed": true
   },
   "outputs": [],
   "source": [
    "# Use MetaData from SQLAlchemy to reflect the tables\n",
    "metadata = MetaData(bind=engine)\n",
    "metadata.reflect()"
   ]
  },
  {
   "cell_type": "code",
   "execution_count": 91,
   "metadata": {
    "collapsed": true
   },
   "outputs": [],
   "source": [
    "# Save the referenct to the 'reviews' table\n",
    "incidents_table = sqlalchemy.Table('incidents', metadata, autoload=True)"
   ]
  },
  {
   "cell_type": "code",
   "execution_count": 92,
   "metadata": {},
   "outputs": [
    {
     "data": {
      "text/plain": [
       "<sqlalchemy.engine.result.ResultProxy at 0x1928bd30f60>"
      ]
     },
     "execution_count": 92,
     "metadata": {},
     "output_type": "execute_result"
    }
   ],
   "source": [
    "# Delete any pre-existing table\n",
    "# DO NOT USE STEP IN PRODUCTION\n",
    "conn.execute(incidents_table.delete())"
   ]
  },
  {
   "cell_type": "code",
   "execution_count": 93,
   "metadata": {},
   "outputs": [
    {
     "data": {
      "text/plain": [
       "<sqlalchemy.engine.result.ResultProxy at 0x1928a9a24e0>"
      ]
     },
     "execution_count": 93,
     "metadata": {},
     "output_type": "execute_result"
    }
   ],
   "source": [
    "# Insert data into the table\n",
    "conn.execute(incidents_table.insert(), data_incidents)"
   ]
  },
  {
   "cell_type": "code",
   "execution_count": 94,
   "metadata": {},
   "outputs": [
    {
     "data": {
      "text/plain": [
       "[(1, '15436 Fm 1825 Rd', 'Crash Urgent', None, None, '2018-02-05'),\n",
       " (2, 'N Mopac Expy Svrd Sb & W Anderson Ln', 'Traffic Hazard', None, None, '2017-12-01'),\n",
       " (3, 'W William Cannon Dr & Brodie Ln', 'Crash Service', None, None, '2018-01-23'),\n",
       " (4, '1800 E Stassney Ln', 'Traffic Hazard', None, None, '2018-01-24'),\n",
       " (5, '2453 E SH 71 SVRD WB', 'Crash Service', None, None, '2017-12-15')]"
      ]
     },
     "execution_count": 94,
     "metadata": {},
     "output_type": "execute_result"
    }
   ],
   "source": [
    "# Test the first 5 rows\n",
    "conn.execute('SELECT * FROM incidents LIMIT 5').fetchall()"
   ]
  },
  {
   "cell_type": "code",
   "execution_count": null,
   "metadata": {
    "collapsed": true
   },
   "outputs": [],
   "source": []
  }
 ],
 "metadata": {
  "kernelspec": {
   "display_name": "Python 3",
   "language": "python",
   "name": "python3"
  },
  "language_info": {
   "codemirror_mode": {
    "name": "ipython",
    "version": 3
   },
   "file_extension": ".py",
   "mimetype": "text/x-python",
   "name": "python",
   "nbconvert_exporter": "python",
   "pygments_lexer": "ipython3",
   "version": "3.6.3"
  }
 },
 "nbformat": 4,
 "nbformat_minor": 2
}
